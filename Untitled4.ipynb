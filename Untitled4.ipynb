{
  "nbformat": 4,
  "nbformat_minor": 0,
  "metadata": {
    "colab": {
      "provenance": [],
      "authorship_tag": "ABX9TyNQi+hR9RD/1CiQjUSVQsxA",
      "include_colab_link": true
    },
    "kernelspec": {
      "name": "python3",
      "display_name": "Python 3"
    },
    "language_info": {
      "name": "python"
    }
  },
  "cells": [
    {
      "cell_type": "markdown",
      "metadata": {
        "id": "view-in-github",
        "colab_type": "text"
      },
      "source": [
        "<a href=\"https://colab.research.google.com/github/discount-Pieter-Levels/Daa-el/blob/main/Untitled4.ipynb\" target=\"_parent\"><img src=\"https://colab.research.google.com/assets/colab-badge.svg\" alt=\"Open In Colab\"/></a>"
      ]
    },
    {
      "cell_type": "code",
      "execution_count": 3,
      "metadata": {
        "id": "xG4tonVghUil"
      },
      "outputs": [],
      "source": [
        "import math\n",
        "class Value:\n",
        "    def __init__(self,data,_children=(),_op=''):\n",
        "        self.data=data\n",
        "        self.grad=0.0\n",
        "        self._backward=lambda:None\n",
        "        self._prev=set(_children)\n",
        "        self._op=_op\n",
        "\n",
        "    def __repr__(self):\n",
        "        return f\"Value(data={self.data}, grad={self.grad})\"\n",
        "\n",
        "    def __add__(self,other):\n",
        "        # 1. Ensure 'other' is a Value object\n",
        "        other = other if isinstance(other, Value) else Value(other)\n",
        "        out = Value(self.data+other.data, (self,other), '+')\n",
        "        # 2. Proceed with calculation and graph creation\n",
        "\n",
        "        def _backward():\n",
        "            # Correct gradients for addition\n",
        "            self.grad += out.grad\n",
        "            other.grad += out.grad\n",
        "\n",
        "        out._backward = _backward\n",
        "        return out\n",
        "\n",
        "    def __neg__(self):\n",
        "        \"\"\"Negation: return -self.\"\"\"\n",
        "        return self * -1\n",
        "\n",
        "    def __sub__(self, other):\n",
        "\n",
        "        return self + (-other)\n",
        "\n",
        "    # It's also good practice to define the reverse operation for robustness:\n",
        "    def __rsub__(self, other):\n",
        "        \"\"\"Reverse Subtraction: return other - self.\"\"\"\n",
        "        # This handles cases like '5.0 - Value(2.0)'\n",
        "        # It's (other) + (-self)\n",
        "        return self.__neg__() + other\n",
        "\n",
        "\n",
        "    def __mul__(self,other):\n",
        "        other = other if isinstance(other,Value) else Value(other)\n",
        "        out = Value(self.data*other.data, (self,other), '*')\n",
        "\n",
        "        def _backward():\n",
        "            self.grad+=out.grad*other.data\n",
        "            other.grad+=out.grad*self.data\n",
        "        out._backward=_backward\n",
        "        return out\n",
        "\n",
        "    def __rmul__(self, other):\n",
        "        return self*other\n",
        "\n",
        "    def tanh(self):\n",
        "\n",
        "        x = self.data\n",
        "        t = (math.exp(2*x)-1)/(math.exp(2*x)+1)\n",
        "        out = Value(t, (self, ), 'tanh')\n",
        "\n",
        "        def _backward():\n",
        "            self.grad += (1-t**2)*out.grad\n",
        "        out._backward=_backward\n",
        "\n",
        "        return out\n",
        "    def __radd__(self, other):\n",
        "\n",
        "        return self + other\n",
        "\n",
        "    def __pow__(self, other):\n",
        "        assert isinstance(other, (int, float)), \"only supporting int/float powers for now\"\n",
        "        # Create a new Value object with the calculated power\n",
        "        out = Value(self.data**other, (self,), f'**{other}')\n",
        "\n",
        "        def _backward():\n",
        "            # Apply the power rule: df/dx = n * x^(n-1)\n",
        "            self.grad += (other * (self.data**(other - 1))) * out.grad\n",
        "\n",
        "        out._backward = _backward\n",
        "        return out\n",
        "\n",
        "    def backward(self):\n",
        "        topo = []\n",
        "        visited = set()\n",
        "        def build_topo(v):\n",
        "            if v not in visited:\n",
        "                visited.add(v)\n",
        "                for child in v._prev:\n",
        "                    build_topo(child)\n",
        "                topo.append(v)\n",
        "        build_topo(self)\n",
        "        self.grad = 1.0\n",
        "        for node in reversed(topo):\n",
        "            node._backward()\n",
        ""
      ]
    },
    {
      "cell_type": "code",
      "source": [],
      "metadata": {
        "id": "IOylxEwtOu_8"
      },
      "execution_count": null,
      "outputs": []
    }
  ]
}